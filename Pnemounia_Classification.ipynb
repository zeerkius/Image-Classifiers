{
 "cells": [
  {
   "cell_type": "code",
   "execution_count": 17,
   "id": "09eac9fd-7006-4b57-bcb1-e69c85324d13",
   "metadata": {},
   "outputs": [
    {
     "name": "stdout",
     "output_type": "stream",
     "text": [
      "5216\n"
     ]
    }
   ],
   "source": [
    "import cv2\n",
    "import numpy\n",
    "import os\n",
    "import matplotlib.pyplot as plt\n",
    "import random\n",
    "import pickle\n",
    "\n",
    "\n",
    "\n",
    "\n",
    "\n",
    "\n",
    "# preprocessing , creating fetaures with flags , then we will turn values into numpy arrays and save as pickle files\n",
    "\n",
    "Picture_Path = [r\"C:\\Users\\agboo\\Downloads\\Pnemounia Prediction\\chest_xray\\train\"]\n",
    "\n",
    "Pnemounia_Folders = [\"NORMAL\",\"PNEUMONIA\"] # we will let pnemounia be one \n",
    "\n",
    "# pnemounia icludes virus bound pnemounia and bacterial bound penmounia\n",
    "\n",
    "Data = []\n",
    "\n",
    "def Training_Data(Train,row = 1250 , col = 800):\n",
    "    for i in range(2):\n",
    "        Folder = os.path.join(Picture_Path[0],Pnemounia_Folders[i])\n",
    "        for img in os.listdir(Folder):\n",
    "            try:\n",
    "                img_path = os.path.join(Folder,img)\n",
    "                new_img = cv2.imread(img_path , cv2.IMREAD_COLOR)\n",
    "                new_img = cv2.resize(new_img,(row,col))\n",
    "                Train.append([new_img,i]) # appending the array version of the img along with the flag\n",
    "            except:\n",
    "                print(\"Error - Corrupted File\")\n",
    "        # now we will create two numpy arrays and save the fetaures in them\n",
    "\n",
    "    random.shuffle(Train) # this way we are avoiding the data being biased to one value\n",
    "\n",
    "    Images = []\n",
    "    Flags = []\n",
    "\n",
    "    for key , flag in Train:\n",
    "        Images.append(key)\n",
    "        Flags.append(flag)\n",
    "\n",
    "    Images = numpy.array(Images).reshape(-1,row,col,1) # we only need one since we are working with X-rays therfore grayscaled data\n",
    "    Flags = numpy.array(Flags)\n",
    "\n",
    "\n",
    "    XRAYS = open(\"XRAYS.pickle\" , \"wb\")\n",
    "    pickle.dump(Images , XRAYS)\n",
    "    XRAYS.close()\n",
    "\n",
    "    BINARYCLASS = open(\"BINARYCLASS.pickle\", \"wb\")\n",
    "    pickle.dump(Flags , BINARYCLASS)\n",
    "    BINARYCLASS.close()\n",
    "\n",
    "    # this ends our pre-processing for our supervised learning model.\n",
    "       \n",
    "Training_Data(Data)\n",
    "print(len(Data))"
   ]
  },
  {
   "cell_type": "code",
   "execution_count": null,
   "id": "df41323f-e8c4-4721-8e7a-684c9dda9003",
   "metadata": {},
   "outputs": [],
   "source": []
  }
 ],
 "metadata": {
  "kernelspec": {
   "display_name": "Python 3 (ipykernel)",
   "language": "python",
   "name": "python3"
  },
  "language_info": {
   "codemirror_mode": {
    "name": "ipython",
    "version": 3
   },
   "file_extension": ".py",
   "mimetype": "text/x-python",
   "name": "python",
   "nbconvert_exporter": "python",
   "pygments_lexer": "ipython3",
   "version": "3.11.9"
  }
 },
 "nbformat": 4,
 "nbformat_minor": 5
}
