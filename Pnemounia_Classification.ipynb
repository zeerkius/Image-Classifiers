{
 "cells": [
  {
   "cell_type": "code",
   "execution_count": 18,
   "id": "09eac9fd-7006-4b57-bcb1-e69c85324d13",
   "metadata": {},
   "outputs": [
    {
     "ename": "AttributeError",
     "evalue": "module 'cv2' has no attribute 'open'",
     "output_type": "error",
     "traceback": [
      "\u001b[1;31m---------------------------------------------------------------------------\u001b[0m",
      "\u001b[1;31mAttributeError\u001b[0m                            Traceback (most recent call last)",
      "Cell \u001b[1;32mIn[18], line 26\u001b[0m\n\u001b[0;32m     24\u001b[0m         \u001b[38;5;28;01mfor\u001b[39;00m img \u001b[38;5;129;01min\u001b[39;00m os\u001b[38;5;241m.\u001b[39mlistdir(Folder):\n\u001b[0;32m     25\u001b[0m             \u001b[38;5;28mprint\u001b[39m(cv2\u001b[38;5;241m.\u001b[39mopen(os\u001b[38;5;241m.\u001b[39mpath\u001b[38;5;241m.\u001b[39mjoin(Folder,img)))\n\u001b[1;32m---> 26\u001b[0m \u001b[43mTraining_Data\u001b[49m\u001b[43m(\u001b[49m\u001b[43m)\u001b[49m\n",
      "Cell \u001b[1;32mIn[18], line 25\u001b[0m, in \u001b[0;36mTraining_Data\u001b[1;34m()\u001b[0m\n\u001b[0;32m     23\u001b[0m flag \u001b[38;5;241m=\u001b[39m Pnemounia_Folders[i]\n\u001b[0;32m     24\u001b[0m \u001b[38;5;28;01mfor\u001b[39;00m img \u001b[38;5;129;01min\u001b[39;00m os\u001b[38;5;241m.\u001b[39mlistdir(Folder):\n\u001b[1;32m---> 25\u001b[0m     \u001b[38;5;28mprint\u001b[39m(\u001b[43mcv2\u001b[49m\u001b[38;5;241;43m.\u001b[39;49m\u001b[43mopen\u001b[49m(os\u001b[38;5;241m.\u001b[39mpath\u001b[38;5;241m.\u001b[39mjoin(Folder,img)))\n",
      "\u001b[1;31mAttributeError\u001b[0m: module 'cv2' has no attribute 'open'"
     ]
    }
   ],
   "source": [
    "import cv2\n",
    "import numpy\n",
    "import os\n",
    "import matplotlib.pyplot as plt\n",
    "\n",
    "\n",
    "\n",
    "\n",
    "\n",
    "\n",
    "\n",
    "\n",
    "\n",
    "Picture_Path = [r\"C:\\Users\\agboo\\Downloads\\Pnemounia Prediction\\chest_xray\\train\"]\n",
    "\n",
    "Pnemounia_Folders = [\"NORMAL\",\"PNEUMONIA\"] # we will let pnemounia be one \n",
    "\n",
    "# pnemounia icludes virus bound pnemounia and bacterial bound penmounia\n",
    "\n",
    "Data = []\n",
    "\n",
    "def Training_Data(Train,row = 1250 , col = 700):\n",
    "    for i in range(2):\n",
    "        Folder = os.path.join(Picture_Path[0],Pnemounia_Folders[i])\n",
    "        flag = Pnemounia_Folders[i]\n",
    "        for img in os.listdir(Folder):\n",
    "            try:\n",
    "                # we open with a try catch because we might have corruptd files\n",
    "                new_img = cv2.imread(os.path.join(Folder,img) , cv2.IMREEAD_COLOR)\n",
    "                new_img = cv2.resize(new_img ,(row,col)) # resizing to about the same image for each\n",
    "                plt.plot(new_img)\n",
    "                plt.show()\n",
    "            except:\n",
    "            print(\"Error: Corrupted File\")\n",
    "            \n",
    "                \n",
    "            print(cv2.open(os.path.join(Folder,img)))\n",
    "Training_Data()"
   ]
  },
  {
   "cell_type": "code",
   "execution_count": null,
   "id": "df41323f-e8c4-4721-8e7a-684c9dda9003",
   "metadata": {},
   "outputs": [],
   "source": []
  }
 ],
 "metadata": {
  "kernelspec": {
   "display_name": "Python 3 (ipykernel)",
   "language": "python",
   "name": "python3"
  },
  "language_info": {
   "codemirror_mode": {
    "name": "ipython",
    "version": 3
   },
   "file_extension": ".py",
   "mimetype": "text/x-python",
   "name": "python",
   "nbconvert_exporter": "python",
   "pygments_lexer": "ipython3",
   "version": "3.11.9"
  }
 },
 "nbformat": 4,
 "nbformat_minor": 5
}
